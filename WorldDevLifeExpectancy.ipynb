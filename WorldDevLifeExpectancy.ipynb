{
 "cells": [
  {
   "cell_type": "markdown",
   "metadata": {},
   "source": [
    "# World Development Indicators and Life Expectancy in 2010\n",
    "\n",
    "This notebook examines adult literacy worldwide and what factors lead to having a high life expectancy in the year 2010. The data used in this notebook come from [Kaggle](https://www.kaggle.com/worldbank/world-development-indicators). To start, we load in the relevant libraries and SQLite database using SQLalchemy and print the table and column names."
   ]
  },
  {
   "cell_type": "code",
   "execution_count": 1,
   "metadata": {
    "collapsed": true
   },
   "outputs": [],
   "source": [
    "# import relevant libraries\n",
    "\n",
    "import numpy as np\n",
    "import pandas as pd\n",
    "import matplotlib as mpl\n",
    "import matplotlib.pyplot as plt\n",
    "import seaborn as sns\n",
    "import sqlalchemy as sqla"
   ]
  },
  {
   "cell_type": "code",
   "execution_count": 26,
   "metadata": {
    "collapsed": false
   },
   "outputs": [
    {
     "name": "stdout",
     "output_type": "stream",
     "text": [
      "\n",
      "Country columns:\n",
      "\n",
      "CountryCode\n",
      "ShortName\n",
      "TableName\n",
      "LongName\n",
      "Alpha2Code\n",
      "CurrencyUnit\n",
      "SpecialNotes\n",
      "Region\n",
      "IncomeGroup\n",
      "Wb2Code\n",
      "NationalAccountsBaseYear\n",
      "NationalAccountsReferenceYear\n",
      "SnaPriceValuation\n",
      "LendingCategory\n",
      "OtherGroups\n",
      "SystemOfNationalAccounts\n",
      "AlternativeConversionFactor\n",
      "PppSurveyYear\n",
      "BalanceOfPaymentsManualInUse\n",
      "ExternalDebtReportingStatus\n",
      "SystemOfTrade\n",
      "GovernmentAccountingConcept\n",
      "ImfDataDisseminationStandard\n",
      "LatestPopulationCensus\n",
      "LatestHouseholdSurvey\n",
      "SourceOfMostRecentIncomeAndExpenditureData\n",
      "VitalRegistrationComplete\n",
      "LatestAgriculturalCensus\n",
      "LatestIndustrialData\n",
      "LatestTradeData\n",
      "LatestWaterWithdrawalData\n",
      "\n",
      "CountryNotes columns:\n",
      "\n",
      "Countrycode\n",
      "Seriescode\n",
      "Description\n",
      "\n",
      "Footnotes columns:\n",
      "\n",
      "Countrycode\n",
      "Seriescode\n",
      "Year\n",
      "Description\n",
      "\n",
      "Indicators columns:\n",
      "\n",
      "CountryName\n",
      "CountryCode\n",
      "IndicatorName\n",
      "IndicatorCode\n",
      "Year\n",
      "Value\n",
      "\n",
      "Series columns:\n",
      "\n",
      "SeriesCode\n",
      "Topic\n",
      "IndicatorName\n",
      "ShortDefinition\n",
      "LongDefinition\n",
      "UnitOfMeasure\n",
      "Periodicity\n",
      "BasePeriod\n",
      "OtherNotes\n",
      "AggregationMethod\n",
      "LimitationsAndExceptions\n",
      "NotesFromOriginalSource\n",
      "GeneralComments\n",
      "Source\n",
      "StatisticalConceptAndMethodology\n",
      "DevelopmentRelevance\n",
      "RelatedSourceLinks\n",
      "OtherWebLinks\n",
      "RelatedIndicators\n",
      "LicenseType\n",
      "\n",
      "SeriesNotes columns:\n",
      "\n",
      "Seriescode\n",
      "Year\n",
      "Description\n"
     ]
    }
   ],
   "source": [
    "# Connect to SQLite database found in database.sqlite\n",
    "\n",
    "metadata = sqla.MetaData()\n",
    "\n",
    "engine =  sqla.create_engine(\"sqlite:///database.sqlite\")\n",
    "\n",
    "table_names = engine.table_names()\n",
    "\n",
    "tables = dict()\n",
    "\n",
    "for table in table_names:\n",
    "    print(\"\\n\"+table+\" columns:\\n\")\n",
    "    tables[table] = sqla.Table(table, metadata, autoload=True, autoload_with=engine)\n",
    "    for column in tables[table].c.keys():\n",
    "        print(column)"
   ]
  },
  {
   "cell_type": "markdown",
   "metadata": {},
   "source": [
    "## Exploratory Analysis\n",
    "\n",
    "Once we have created an engine and loaded the tables from the database, we can then do an exploratory analysis of the data. We want to examine life expectancy, but first we must find which indicator in our table refers to this field. We use the Indicators and Series table to find indicators with the word \"life expectancy\" in them, and print the name of the indicator, the IndicatorCode, and a description of the Indicator."
   ]
  },
  {
   "cell_type": "code",
   "execution_count": 58,
   "metadata": {
    "collapsed": false
   },
   "outputs": [
    {
     "name": "stdout",
     "output_type": "stream",
     "text": [
      "Life expectancy at birth, female (years) SP.DYN.LE00.FE.IN\n",
      "Life expectancy at birth indicates the number of years a newborn infant would live if prevailing patterns of mortality at the time of its birth were to stay the same throughout its life.\n",
      "\n",
      "\n",
      "Life expectancy at birth, male (years) SP.DYN.LE00.MA.IN\n",
      "Life expectancy at birth indicates the number of years a newborn infant would live if prevailing patterns of mortality at the time of its birth were to stay the same throughout its life.\n",
      "\n",
      "\n",
      "Life expectancy at birth, total (years) SP.DYN.LE00.IN\n",
      "Life expectancy at birth indicates the number of years a newborn infant would live if prevailing patterns of mortality at the time of its birth were to stay the same throughout its life.\n",
      "\n",
      "\n"
     ]
    }
   ],
   "source": [
    "# Create SQL query \n",
    "\n",
    "# Select distinct IndicatorNames (to avoid repeating the same indicator for each country)\n",
    "\n",
    "stmt = sqla.select([tables[\"Indicators\"].c.IndicatorName.distinct(), \n",
    "                    tables[\"Indicators\"].c.IndicatorCode,\n",
    "                    tables[\"Series\"].c.LongDefinition])\n",
    "\n",
    "# Use JOIN to find description under series name\n",
    "\n",
    "stmt = stmt.select_from(\n",
    "    tables[\"Indicators\"].join(tables[\"Series\"], \n",
    "                             tables[\"Indicators\"].c.IndicatorCode == tables[\"Series\"].c.SeriesCode)\n",
    ")\n",
    "\n",
    "# Find indicators that have \"literacy\" somewhere\n",
    "\n",
    "stmt = stmt.where(tables[\"Indicators\"].c.IndicatorName.ilike(\"%life expectancy%\"))\n",
    "\n",
    "# Connect to the engine and execute the statement.\n",
    "\n",
    "conn = engine.connect()\n",
    "\n",
    "for result in conn.execute(stmt):\n",
    "    print(result.IndicatorName, result.IndicatorCode)\n",
    "    print(result.LongDefinition)\n",
    "    print(\"\\n\")\n",
    "\n",
    "conn.close()"
   ]
  },
  {
   "cell_type": "markdown",
   "metadata": {},
   "source": [
    "From these queries, we have identified that the indicator that most closely matches our query is the life expectancy at birth, which has the code SP.DYN.LE00.IN. We then use this to select this literacy rate for the year 2010 and plot it on a histogram."
   ]
  },
  {
   "cell_type": "code",
   "execution_count": 65,
   "metadata": {
    "collapsed": false,
    "scrolled": false
   },
   "outputs": [
    {
     "name": "stdout",
     "output_type": "stream",
     "text": [
      "<class 'pandas.core.frame.DataFrame'>\n",
      "RangeIndex: 200 entries, 0 to 199\n",
      "Data columns (total 2 columns):\n",
      "CountryName       200 non-null object\n",
      "LifeExpectancy    200 non-null float64\n",
      "dtypes: float64(1), object(1)\n",
      "memory usage: 3.2+ KB\n",
      "None\n",
      "       LifeExpectancy\n",
      "count      200.000000\n",
      "mean        70.281327\n",
      "std          8.947131\n",
      "min         47.483415\n",
      "25%         64.771524\n",
      "50%         72.798463\n",
      "75%         76.722341\n",
      "max         83.159379\n"
     ]
    },
    {
     "data": {
      "image/png": "[encoded data removed]",
      "text/plain": [
       "<matplotlib.figure.Figure at 0x216b4be0588>"
      ]
     },
     "metadata": {},
     "output_type": "display_data"
    }
   ],
   "source": [
    "%matplotlib inline\n",
    "# Create SQL query\n",
    "\n",
    "stmt = sqla.select([tables[\"Indicators\"].c.CountryName, tables[\"Indicators\"].c.Value.label(\"LifeExpectancy\")])\n",
    "\n",
    "\n",
    "# Use to avoid selecting regions instead of countries\n",
    "stmt = stmt.select_from(tables[\"Indicators\"].join(tables[\"Country\"],\n",
    "                                                 tables[\"Country\"].c.CountryCode == tables[\"Indicators\"].c.CountryCode))\n",
    "\n",
    "stmt = stmt.where(sqla.and_(tables[\"Country\"].c.Region.isnot(\"\"),\n",
    "                            tables[\"Indicators\"].c.IndicatorCode == \"SP.DYN.LE00.IN\",\n",
    "                            tables[\"Indicators\"].c.Year == 2010)\n",
    "    )\n",
    "\n",
    "\n",
    "conn = engine.connect()\n",
    "\n",
    "# Load into pandas dataframe\n",
    "\n",
    "life_exp = pd.read_sql_query(stmt, conn)\n",
    "\n",
    "print(life_exp.info())\n",
    "print(life_exp.describe())\n",
    "\n",
    "\n",
    "plt.hist(life_exp[\"LifeExpectancy\"], bins = 14)\n",
    "\n",
    "conn.close()"
   ]
  },
  {
   "cell_type": "code",
   "execution_count": null,
   "metadata": {
    "collapsed": true
   },
   "outputs": [],
   "source": []
  }
 ],
 "metadata": {
  "kernelspec": {
   "display_name": "Python 3",
   "language": "python",
   "name": "python3"
  },
  "language_info": {
   "codemirror_mode": {
    "name": "ipython",
    "version": 3
   },
   "file_extension": ".py",
   "mimetype": "text/x-python",
   "name": "python",
   "nbconvert_exporter": "python",
   "pygments_lexer": "ipython3",
   "version": "3.6.0"
  }
 },
 "nbformat": 4,
 "nbformat_minor": 2
}
