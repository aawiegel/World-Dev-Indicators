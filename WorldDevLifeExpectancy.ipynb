{
 "cells": [
  {
   "cell_type": "markdown",
   "metadata": {},
   "source": [
    "# World Development Indicators and Life Expectancy in 2010\n",
    "\n",
    "This notebook examines adult literacy worldwide and what factors lead to having a high life expectancy in the year 2010. The data used in this notebook come from [Kaggle](https://www.kaggle.com/worldbank/world-development-indicators). To start, we load in the relevant libraries and SQLite database using SQLalchemy and print the table and column names."
   ]
  },
  {
   "cell_type": "code",
   "execution_count": 2,
   "metadata": {
    "collapsed": true
   },
   "outputs": [],
   "source": [
    "# import relevant libraries\n",
    "\n",
    "import numpy as np\n",
    "import pandas as pd\n",
    "import matplotlib as mpl\n",
    "import matplotlib.pyplot as plt\n",
    "import seaborn as sns\n",
    "import sqlalchemy as sqla"
   ]
  },
  {
   "cell_type": "code",
   "execution_count": 3,
   "metadata": {
    "collapsed": false
   },
   "outputs": [
    {
     "name": "stdout",
     "output_type": "stream",
     "text": [
      "\n",
      "Country columns:\n",
      "\n",
      "CountryCode\n",
      "ShortName\n",
      "TableName\n",
      "LongName\n",
      "Alpha2Code\n",
      "CurrencyUnit\n",
      "SpecialNotes\n",
      "Region\n",
      "IncomeGroup\n",
      "Wb2Code\n",
      "NationalAccountsBaseYear\n",
      "NationalAccountsReferenceYear\n",
      "SnaPriceValuation\n",
      "LendingCategory\n",
      "OtherGroups\n",
      "SystemOfNationalAccounts\n",
      "AlternativeConversionFactor\n",
      "PppSurveyYear\n",
      "BalanceOfPaymentsManualInUse\n",
      "ExternalDebtReportingStatus\n",
      "SystemOfTrade\n",
      "GovernmentAccountingConcept\n",
      "ImfDataDisseminationStandard\n",
      "LatestPopulationCensus\n",
      "LatestHouseholdSurvey\n",
      "SourceOfMostRecentIncomeAndExpenditureData\n",
      "VitalRegistrationComplete\n",
      "LatestAgriculturalCensus\n",
      "LatestIndustrialData\n",
      "LatestTradeData\n",
      "LatestWaterWithdrawalData\n",
      "\n",
      "CountryNotes columns:\n",
      "\n",
      "Countrycode\n",
      "Seriescode\n",
      "Description\n",
      "\n",
      "Footnotes columns:\n",
      "\n",
      "Countrycode\n",
      "Seriescode\n",
      "Year\n",
      "Description\n",
      "\n",
      "Indicators columns:\n",
      "\n",
      "CountryName\n",
      "CountryCode\n",
      "IndicatorName\n",
      "IndicatorCode\n",
      "Year\n",
      "Value\n",
      "\n",
      "Series columns:\n",
      "\n",
      "SeriesCode\n",
      "Topic\n",
      "IndicatorName\n",
      "ShortDefinition\n",
      "LongDefinition\n",
      "UnitOfMeasure\n",
      "Periodicity\n",
      "BasePeriod\n",
      "OtherNotes\n",
      "AggregationMethod\n",
      "LimitationsAndExceptions\n",
      "NotesFromOriginalSource\n",
      "GeneralComments\n",
      "Source\n",
      "StatisticalConceptAndMethodology\n",
      "DevelopmentRelevance\n",
      "RelatedSourceLinks\n",
      "OtherWebLinks\n",
      "RelatedIndicators\n",
      "LicenseType\n",
      "\n",
      "SeriesNotes columns:\n",
      "\n",
      "Seriescode\n",
      "Year\n",
      "Description\n"
     ]
    }
   ],
   "source": [
    "# Connect to SQLite database found in database.sqlite\n",
    "\n",
    "metadata = sqla.MetaData()\n",
    "\n",
    "engine =  sqla.create_engine(\"sqlite:///database.sqlite\")\n",
    "\n",
    "table_names = engine.table_names()\n",
    "\n",
    "tables = dict()\n",
    "\n",
    "for table in table_names:\n",
    "    print(\"\\n\"+table+\" columns:\\n\")\n",
    "    tables[table] = sqla.Table(table, metadata, autoload=True, autoload_with=engine)\n",
    "    for column in tables[table].c.keys():\n",
    "        print(column)"
   ]
  },
  {
   "cell_type": "markdown",
   "metadata": {},
   "source": [
    "## Initial Exploratory Analysis\n",
    "\n",
    "Once we have created an engine and loaded the tables from the database, we can then do an exploratory analysis of the data. We want to examine life expectancy, but first we must find which indicator in our table refers to this field. We use the Indicators and Series table to find indicators with the word \"life expectancy\" in them, and print the name of the indicator, the IndicatorCode, and a description of the Indicator."
   ]
  },
  {
   "cell_type": "code",
   "execution_count": 4,
   "metadata": {
    "collapsed": false
   },
   "outputs": [
    {
     "name": "stdout",
     "output_type": "stream",
     "text": [
      "Life expectancy at birth, female (years) SP.DYN.LE00.FE.IN\n",
      "Life expectancy at birth indicates the number of years a newborn infant would live if prevailing patterns of mortality at the time of its birth were to stay the same throughout its life.\n",
      "\n",
      "\n",
      "Life expectancy at birth, male (years) SP.DYN.LE00.MA.IN\n",
      "Life expectancy at birth indicates the number of years a newborn infant would live if prevailing patterns of mortality at the time of its birth were to stay the same throughout its life.\n",
      "\n",
      "\n",
      "Life expectancy at birth, total (years) SP.DYN.LE00.IN\n",
      "Life expectancy at birth indicates the number of years a newborn infant would live if prevailing patterns of mortality at the time of its birth were to stay the same throughout its life.\n",
      "\n",
      "\n"
     ]
    }
   ],
   "source": [
    "# Create SQL query function (We'll use a similar query again later)\n",
    "\n",
    "# Select distinct IndicatorNames (to avoid repeating the same indicator for each country)\n",
    "\n",
    "def find_indicator_strings(indicator):\n",
    "    stmt = sqla.select([tables[\"Indicators\"].c.IndicatorName.distinct(), \n",
    "                        tables[\"Indicators\"].c.IndicatorCode,\n",
    "                        tables[\"Series\"].c.LongDefinition])\n",
    "\n",
    "    # Use JOIN to find description under series name\n",
    "\n",
    "    stmt = stmt.select_from(\n",
    "        tables[\"Indicators\"].join(tables[\"Series\"], \n",
    "                                 tables[\"Indicators\"].c.IndicatorCode == tables[\"Series\"].c.SeriesCode)\n",
    "    )\n",
    "\n",
    "    # Find indicators that have indicator somewhere\n",
    "\n",
    "    return stmt.where(tables[\"Indicators\"].c.IndicatorName.ilike(\"%\"+indicator+\"%\"))\n",
    "\n",
    "stmt = find_indicator_strings(\"life expectancy\")\n",
    "\n",
    "# Connect to the engine and execute the statement.\n",
    "\n",
    "conn = engine.connect()\n",
    "\n",
    "for result in conn.execute(stmt):\n",
    "    print(result.IndicatorName, result.IndicatorCode)\n",
    "    print(result.LongDefinition)\n",
    "    print(\"\\n\")\n",
    "\n",
    "conn.close()"
   ]
  },
  {
   "cell_type": "markdown",
   "metadata": {},
   "source": [
    "From these queries, we have identified that the indicator that most closely matches our query is the life expectancy at birth, which has the code SP.DYN.LE00.IN. We then use this to select this literacy rate for the year 2010 and plot it on a histogram."
   ]
  },
  {
   "cell_type": "code",
   "execution_count": 5,
   "metadata": {
    "collapsed": false,
    "scrolled": false
   },
   "outputs": [
    {
     "name": "stderr",
     "output_type": "stream",
     "text": [
      "C:\\Users\\aawie\\AppData\\Local\\Continuum\\Anaconda3\\lib\\site-packages\\sqlalchemy\\sql\\sqltypes.py:596: SAWarning: Dialect sqlite+pysqlite does *not* support Decimal objects natively, and SQLAlchemy must convert from floating point - rounding errors and other issues may occur. Please consider storing Decimal numbers as strings or integers on this platform for lossless storage.\n",
      "  'storage.' % (dialect.name, dialect.driver))\n"
     ]
    },
    {
     "name": "stdout",
     "output_type": "stream",
     "text": [
      "<class 'pandas.core.frame.DataFrame'>\n",
      "RangeIndex: 200 entries, 0 to 199\n",
      "Data columns (total 2 columns):\n",
      "CountryName       200 non-null object\n",
      "LifeExpectancy    200 non-null float64\n",
      "dtypes: float64(1), object(1)\n",
      "memory usage: 3.2+ KB\n",
      "None\n",
      "       LifeExpectancy\n",
      "count      200.000000\n",
      "mean        70.281327\n",
      "std          8.947131\n",
      "min         47.483415\n",
      "25%         64.771524\n",
      "50%         72.798463\n",
      "75%         76.722341\n",
      "max         83.159379\n"
     ]
    },
    {
     "data": {
      "image/png": "[encoded data removed]",
      "text/plain": [
       "<matplotlib.figure.Figure at 0x168d8e5f0f0>"
      ]
     },
     "metadata": {},
     "output_type": "display_data"
    }
   ],
   "source": [
    "%matplotlib inline\n",
    "# Create SQL query\n",
    "\n",
    "stmt = sqla.select([tables[\"Indicators\"].c.CountryName, tables[\"Indicators\"].c.Value.label(\"LifeExpectancy\")])\n",
    "\n",
    "\n",
    "# Use to avoid selecting regions instead of countries\n",
    "stmt = stmt.select_from(tables[\"Indicators\"].join(tables[\"Country\"],\n",
    "                                                 tables[\"Country\"].c.CountryCode == tables[\"Indicators\"].c.CountryCode))\n",
    "\n",
    "stmt = stmt.where(sqla.and_(tables[\"Country\"].c.Region.isnot(\"\"),\n",
    "                            tables[\"Indicators\"].c.IndicatorCode == \"SP.DYN.LE00.IN\",\n",
    "                            tables[\"Indicators\"].c.Year == 2010)\n",
    "    )\n",
    "\n",
    "\n",
    "conn = engine.connect()\n",
    "\n",
    "# Load into pandas dataframe\n",
    "\n",
    "life_exp = pd.read_sql_query(stmt, conn)\n",
    "\n",
    "print(life_exp.info())\n",
    "print(life_exp.describe())\n",
    "\n",
    "\n",
    "plt.hist(life_exp[\"LifeExpectancy\"], bins = 14)\n",
    "\n",
    "conn.close()"
   ]
  },
  {
   "cell_type": "markdown",
   "metadata": {
    "collapsed": true
   },
   "source": [
    "From our histogram and description of the dataset, we can see that the mean life expectancy in 2010 was about 70, although the distribution is skewed to the right since median is actually almost 73 years.\n",
    "\n",
    "## Exploring possible predictors\n",
    "\n",
    "We then would like to query for other available indicators so that later we can use machine learning to try to understand what may predict life expectancy. Using our earlier function we defined to try to find several different predictors. Here, we look for infant mortality, fertility, population density, GDP per capita, PM2.5 Exposure, and CO2 emissions."
   ]
  },
  {
   "cell_type": "code",
   "execution_count": 10,
   "metadata": {
    "collapsed": false,
    "scrolled": true
   },
   "outputs": [
    {
     "name": "stdout",
     "output_type": "stream",
     "text": [
      "infant\n",
      "\n",
      "Completeness of infant death reporting (% of reported infant deaths to estimated infant deaths) SP.DTH.INFR.ZS\n",
      "Completeness of infant death reporting is the number of infant deaths reported by national statistics authorities to the United Nations Statistics Division's Demography Yearbook divided by the number of infant deaths estimated by the United Nations Population Division.\n",
      "\n",
      "\n",
      "Mortality rate, infant (per 1,000 live births) SP.DYN.IMRT.IN\n",
      "Infant mortality rate is the number of infants dying before reaching one year of age, per 1,000 live births in a given year.\n",
      "\n",
      "\n",
      "Mortality rate, infant, female (per 1,000 live births) SP.DYN.IMRT.FE.IN\n",
      "Infant mortality rate, female is the number of female infants dying before reaching one year of age, per 1,000 female live births in a given year.\n",
      "\n",
      "\n",
      "Mortality rate, infant, male (per 1,000 live births) SP.DYN.IMRT.MA.IN\n",
      "Infant mortality rate, male is the number of male infants dying before reaching one year of age, per 1,000 male live births in a given year.\n",
      "\n",
      "\n",
      "Number of infant deaths SH.DTH.IMRT\n",
      "Number of infants dying before reaching one year of age.\n",
      "\n",
      "\n",
      "fertility\n",
      "\n",
      "Adolescent fertility rate (births per 1,000 women ages 15-19) SP.ADO.TFRT\n",
      "Adolescent fertility rate is the number of births per 1,000 women ages 15-19.\n",
      "\n",
      "\n",
      "Fertility rate, total (births per woman) SP.DYN.TFRT.IN\n",
      "Total fertility rate represents the number of children that would be born to a woman if she were to live to the end of her childbearing years and bear children in accordance with current age-specific fertility rates.\n",
      "\n",
      "\n",
      "Wanted fertility rate (births per woman) SP.DYN.WFRT\n",
      "Wanted fertility rate is an estimate of what the total fertility rate would be if all unwanted births were avoided.\n",
      "\n",
      "\n",
      "population density\n",
      "\n",
      "Population density (people per sq. km of land area) EN.POP.DNST\n",
      "Population density is midyear population divided by land area in square kilometers. Population is based on the de facto definition of population, which counts all residents regardless of legal status or citizenship--except for refugees not permanently settled in the country of asylum, who are generally considered part of the population of their country of origin. Land area is a country's total area, excluding area under inland water bodies, national claims to continental shelf, and exclusive economic zones. In most cases the definition of inland water bodies includes major rivers and lakes.\n",
      "\n",
      "\n",
      "GDP per capita\n",
      "\n",
      "GDP per capita (constant 2005 US$) NY.GDP.PCAP.KD\n",
      "GDP per capita is gross domestic product divided by midyear population. GDP is the sum of gross value added by all resident producers in the economy plus any product taxes and minus any subsidies not included in the value of the products. It is calculated without making deductions for depreciation of fabricated assets or for depletion and degradation of natural resources. Data are in constant 2005 U.S. dollars.\n",
      "\n",
      "\n",
      "GDP per capita (constant LCU) NY.GDP.PCAP.KN\n",
      "GDP per capita is gross domestic product divided by midyear population. GDP at purchaser's prices is the sum of gross value added by all resident producers in the economy plus any product taxes and minus any subsidies not included in the value of the products. It is calculated without making deductions for depreciation of fabricated assets or for depletion and degradation of natural resources. Data are in constant local currency.\n",
      "\n",
      "\n",
      "GDP per capita (current LCU) NY.GDP.PCAP.CN\n",
      "GDP per capita is gross domestic product divided by midyear population. GDP is the sum of gross value added by all resident producers in the economy plus any product taxes and minus any subsidies not included in the value of the products. It is calculated without making deductions for depreciation of fabricated assets or for depletion and degradation of natural resources. Data are in current local currency.\n",
      "\n",
      "\n",
      "GDP per capita (current US$) NY.GDP.PCAP.CD\n",
      "GDP per capita is gross domestic product divided by midyear population. GDP is the sum of gross value added by all resident producers in the economy plus any product taxes and minus any subsidies not included in the value of the products. It is calculated without making deductions for depreciation of fabricated assets or for depletion and degradation of natural resources. Data are in current U.S. dollars.\n",
      "\n",
      "\n",
      "GDP per capita growth (annual %) NY.GDP.PCAP.KD.ZG\n",
      "Annual percentage growth rate of GDP per capita based on constant local currency. Aggregates are based on constant 2005 U.S. dollars. GDP per capita is gross domestic product divided by midyear population. GDP at purchaser's prices is the sum of gross value added by all resident producers in the economy plus any product taxes and minus any subsidies not included in the value of the products. It is calculated without making deductions for depreciation of fabricated assets or for depletion and degradation of natural resources.\n",
      "\n",
      "\n",
      "GDP per capita, PPP (constant 2011 international $) NY.GDP.PCAP.PP.KD\n",
      "GDP per capita based on purchasing power parity (PPP). PPP GDP is gross domestic product converted to international dollars using purchasing power parity rates. An international dollar has the same purchasing power over GDP as the U.S. dollar has in the United States. GDP at purchaser's prices is the sum of gross value added by all resident producers in the economy plus any product taxes and minus any subsidies not included in the value of the products. It is calculated without making deductions for depreciation of fabricated assets or for depletion and degradation of natural resources. Data are in constant 2011 international dollars.\n",
      "\n",
      "\n",
      "GDP per capita, PPP (current international $) NY.GDP.PCAP.PP.CD\n",
      "GDP per capita based on purchasing power parity (PPP). PPP GDP is gross domestic product converted to international dollars using purchasing power parity rates. An international dollar has the same purchasing power over GDP as the U.S. dollar has in the United States. GDP at purchaser's prices is the sum of gross value added by all resident producers in the economy plus any product taxes and minus any subsidies not included in the value of the products. It is calculated without making deductions for depreciation of fabricated assets or for depletion and degradation of natural resources. Data are in current international dollars based on the 2011 ICP round.\n",
      "\n",
      "\n",
      "Government expenditure per primary student as % of GDP per capita (%) SE.XPD.PRIM.PC.ZS\n",
      "Government expenditure per student is the average general government expenditure (current, capital, and transfers) per student in the given level of education, expressed as a percentage of GDP per capita.\n",
      "\n",
      "\n",
      "Government expenditure per secondary student as % of GDP per capita (%) SE.XPD.SECO.PC.ZS\n",
      "Government expenditure per student is the average general government expenditure (current, capital, and transfers) per student in the given level of education, expressed as a percentage of GDP per capita.\n",
      "\n",
      "\n",
      "Government expenditure per tertiary student as % of GDP per capita (%) SE.XPD.TERT.PC.ZS\n",
      "Government expenditure per student is the average general government expenditure (current, capital, and transfers) per student in the given level of education, expressed as a percentage of GDP per capita.\n",
      "\n",
      "\n",
      "PM2.5\n",
      "\n",
      "PM2.5 air pollution, mean annual exposure (micrograms per cubic meter) EN.ATM.PM25.MC.M3\n",
      "Population-weighted exposure to ambient PM2.5 pollution is defined as the average level of exposure of a nation's population to concentrations of suspended particles measuring less than 2.5 microns in aerodynamic diameter, which are capable of penetrating deep into the respiratory tract and causing severe health damage. Exposure is calculated by weighting mean annual concentrations of PM2.5 by population in both urban and rural areas.\n",
      "\n",
      "\n",
      "PM2.5 air pollution, population exposed to levels exceeding WHO guideline value (% of total) EN.ATM.PM25.MC.ZS\n",
      "Percent of population exposed to ambient concentrations of PM2.5 that exceed the WHO guideline value is defined as the portion of a countrys population living in places where mean annual concentrations of PM2.5 are greater than 10 micrograms per cubic meter, the guideline value recommended by the World Health Organization as the lower end of the range of concentrations over which adverse health effects due to PM2.5 exposure have been observed.\n",
      "\n",
      "\n",
      "CO2 emissions\n",
      "\n",
      "CO2 emissions (kg per 2005 US$ of GDP) EN.ATM.CO2E.KD.GD\n",
      "Carbon dioxide emissions are those stemming from the burning of fossil fuels and the manufacture of cement. They include carbon dioxide produced during consumption of solid, liquid, and gas fuels and gas flaring.\n",
      "\n",
      "\n",
      "CO2 emissions (kg per 2011 PPP $ of GDP) EN.ATM.CO2E.PP.GD.KD\n",
      "Carbon dioxide emissions are those stemming from the burning of fossil fuels and the manufacture of cement. They include carbon dioxide produced during consumption of solid, liquid, and gas fuels and gas flaring.\n",
      "\n",
      "\n",
      "CO2 emissions (kg per PPP $ of GDP) EN.ATM.CO2E.PP.GD\n",
      "Carbon dioxide emissions are those stemming from the burning of fossil fuels and the manufacture of cement. They include carbon dioxide produced during consumption of solid, liquid, and gas fuels and gas flaring.\n",
      "\n",
      "\n",
      "CO2 emissions (kt) EN.ATM.CO2E.KT\n",
      "Carbon dioxide emissions are those stemming from the burning of fossil fuels and the manufacture of cement. They include carbon dioxide produced during consumption of solid, liquid, and gas fuels and gas flaring.\n",
      "\n",
      "\n",
      "CO2 emissions (metric tons per capita) EN.ATM.CO2E.PC\n",
      "Carbon dioxide emissions are those stemming from the burning of fossil fuels and the manufacture of cement. They include carbon dioxide produced during consumption of solid, liquid, and gas fuels and gas flaring.\n",
      "\n",
      "\n",
      "CO2 emissions from electricity and heat production, total (% of total fuel combustion) EN.CO2.ETOT.ZS\n",
      "CO2 emissions from electricity and heat production is the sum of three IEA categories of CO2 emissions: (1) Main Activity Producer Electricity and Heat which contains the sum of emissions from main activity producer electricity generation, combined heat and power generation and heat plants. Main activity producers  (formerly known as public utilities) are defined as those undertakings whose primary activity is to supply the public. They may be publicly or privately owned. This corresponds to IPCC Source/Sink Category 1 A 1 a. For the CO2 emissions from fuel combustion (summary) file, emissions from own on-site use of fuel in power plants (EPOWERPLT) are also included. (2) Unallocated Autoproducers which contains the emissions from the generation of electricity and/or heat by autoproducers. Autoproducers are defined as undertakings that generate electricity and/or heat, wholly or partly for their own use as an activity which supports their primary activity. They may be privately or publicly owned. In the 1996 IPCC Guidelines, these emissions would normally be distributed between industry, transport and \"other\" sectors. (3) Other Energy Industries contains emissions from fuel combusted in petroleum refineries, for the manufacture of solid fuels, coal mining, oil and gas extraction and other energy-producing industries. This corresponds to the IPCC Source/Sink Categories 1 A 1 b and 1 A 1 c. According to the 1996 IPCC Guidelines, emissions from coke inputs to blast furnaces can either be counted here or in the Industrial Processes source/sink category. Within detailed sectoral calculations, certain non-energy processes can be distinguished. In the reduction of iron in a blast furnace through the combustion of coke, the primary purpose of the coke oxidation is to produce pig iron and the emissions can be considered as an industrial process. Care must be taken not to double count these emissions in both Energy and Industrial Processes. In the IEA estimations, these emissions have been included in this category.\n",
      "\n",
      "\n",
      "CO2 emissions from gaseous fuel consumption (% of total) EN.ATM.CO2E.GF.ZS\n",
      "Carbon dioxide emissions from liquid fuel consumption refer mainly to emissions from use of natural gas as an energy source.\n",
      "\n",
      "\n",
      "CO2 emissions from gaseous fuel consumption (kt) EN.ATM.CO2E.GF.KT\n",
      "Carbon dioxide emissions from liquid fuel consumption refer mainly to emissions from use of natural gas as an energy source.\n",
      "\n",
      "\n",
      "CO2 emissions from liquid fuel consumption (% of total) EN.ATM.CO2E.LF.ZS\n",
      "Carbon dioxide emissions from liquid fuel consumption refer mainly to emissions from use of petroleum-derived fuels as an energy source.\n",
      "\n",
      "\n",
      "CO2 emissions from liquid fuel consumption (kt) EN.ATM.CO2E.LF.KT\n",
      "Carbon dioxide emissions from liquid fuel consumption refer mainly to emissions from use of petroleum-derived fuels as an energy source.\n",
      "\n",
      "\n",
      "CO2 emissions from manufacturing industries and construction (% of total fuel combustion) EN.CO2.MANF.ZS\n",
      "CO2 emissions from manufacturing industries and construction contains the emissions from combustion of fuels in industry. The IPCC Source/Sink Category 1 A 2 includes these emissions. However, in the 1996 IPCC Guidelines, the IPCC category also includes emissions from industry autoproducers that generate electricity and/or heat. The IEA data are not collected in a way that allows the energy consumption to be split by specific end-use and therefore, autoproducers are shown as a separate item (Unallocated Autoproducers). Manufacturing industries and construction also includes emissions from coke inputs into blast furnaces, which may be reported either in the transformation sector, the industry sector or the separate IPCC Source/Sink Category 2, Industrial Processes.\n",
      "\n",
      "\n",
      "CO2 emissions from other sectors, excluding residential buildings and commercial and public services (% of total fuel combustion) EN.CO2.OTHX.ZS\n",
      "CO2 emissions from other sectors, less residential buildings and commercial and public services, contains the emissions from commercial/institutional activities, residential, agriculture/forestry, fishing and other emissions not specified elsewhere that are included in the IPCC Source/Sink Categories 1 A 4 and 1 A 5. In the 1996 IPCC Guidelines, the category also includes emissions from autoproducers in the commercial/residential/agricultural sectors that generate electricity and/or heat. The IEA data are not collected in a way that allows the energy consumption to be split by specific end-use and therefore, autoproducers are shown as a separate item (Unallocated Autoproducers).\n",
      "\n",
      "\n",
      "CO2 emissions from residential buildings and commercial and public services (% of total fuel combustion) EN.CO2.BLDG.ZS\n",
      "CO2 emissions from residential buildings and commercial and public services contains all emissions from fuel combustion in households. This corresponds to IPCC Source/Sink Category 1 A 4 b. Commercial and public services includes emissions from all activities of ISIC Divisions 41, 50-52, 55, 63-67, 70-75, 80, 85, 90-93 and 99.\n",
      "\n",
      "\n",
      "CO2 emissions from solid fuel consumption (% of total) EN.ATM.CO2E.SF.ZS\n",
      "Carbon dioxide emissions from solid fuel consumption refer mainly to emissions from use of coal as an energy source.\n",
      "\n",
      "\n",
      "CO2 emissions from solid fuel consumption (kt) EN.ATM.CO2E.SF.KT\n",
      "Carbon dioxide emissions from solid fuel consumption refer mainly to emissions from use of coal as an energy source.\n",
      "\n",
      "\n",
      "CO2 emissions from transport (% of total fuel combustion) EN.CO2.TRAN.ZS\n",
      "CO2 emissions from transport contains emissions from the combustion of fuel for all transport activity, regardless of the sector, except for international marine bunkers and international aviation. This includes domestic aviation, domestic navigation, road, rail and pipeline transport, and corresponds to IPCC Source/Sink Category 1 A 3. In addition, the IEA data are not collected in a way that allows the autoproducer consumption to be split by specific end-use and therefore, autoproducers are shown as a separate item (Unallocated Autoproducers).\n",
      "\n",
      "\n"
     ]
    }
   ],
   "source": [
    "# Create list to look through\n",
    "string_list = [\"infant\", \"fertility\", \"population density\", \"GDP per capita\", \"PM2.5\", \"CO2 emissions\"]\n",
    "\n",
    "conn = engine.connect()\n",
    "\n",
    "for string in string_list:\n",
    "    print(string+\"\\n\")\n",
    "    stmt = find_indicator_strings(string)\n",
    "    for result in conn.execute(stmt):\n",
    "        print(result.IndicatorName, result.IndicatorCode)\n",
    "        print(result.LongDefinition)\n",
    "        print(\"\\n\")\n",
    "\n",
    "conn.close()\n",
    "    "
   ]
  },
  {
   "cell_type": "markdown",
   "metadata": {},
   "source": [
    "Here, we select Mortality rate, infant (per 1,000 live births) SP.DYN.IMRT.IN, Fertility rate, total (births per woman) SP.DYN.TFRT.IN, Population density (people per sq. km of land area) EN.POP.DNST, GDP per capita, PPP (constant 2011 international dollars) NY.GDP.PCAP.PP.KD, PM2.5 air pollution, mean annual exposure (micrograms per cubic meter) EN.ATM.PM25.MC.M3, and CO2 emissions (kg per 2011 PPP dollars of GDP) EN.ATM.CO2E.PP.GD.KD. (In practice, we sould likely select many more, but many of these indicators would probably covary.)"
   ]
  },
  {
   "cell_type": "code",
   "execution_count": 29,
   "metadata": {
    "collapsed": false
   },
   "outputs": [
    {
     "name": "stdout",
     "output_type": "stream",
     "text": [
      "<class 'pandas.core.frame.DataFrame'>\n",
      "Index: 177 entries, Afghanistan to Zimbabwe\n",
      "Data columns (total 7 columns):\n",
      "CO2               177 non-null float64\n",
      "Fertility         177 non-null float64\n",
      "GDPperCap         177 non-null float64\n",
      "InfantMort        177 non-null float64\n",
      "LifeExpectancy    177 non-null float64\n",
      "PM2.5Exp          177 non-null float64\n",
      "PopDens           177 non-null float64\n",
      "dtypes: float64(7)\n",
      "memory usage: 11.1+ KB\n",
      "None\n",
      "Indicator         CO2   Fertility      GDPperCap  InfantMort  LifeExpectancy  \\\n",
      "count      177.000000  177.000000     177.000000  177.000000      177.000000   \n",
      "mean         0.258143    2.945248   16511.548649   27.841243       69.848042   \n",
      "std          0.181522    1.471057   18820.022901   24.918541        8.817252   \n",
      "min          0.022593    1.150000     596.322848    1.900000       47.483415   \n",
      "25%          0.141116    1.820000    3240.831521    7.600000       63.402293   \n",
      "50%          0.220387    2.465000   10031.644562   17.100000       72.567512   \n",
      "75%          0.318498    3.985000   21663.642210   42.400000       76.052805   \n",
      "max          1.281642    7.667000  127670.607332  107.000000       82.842683   \n",
      "\n",
      "Indicator    PM2.5Exp      PopDens  \n",
      "count      177.000000   177.000000  \n",
      "mean        17.981633   182.556733  \n",
      "std         10.948648   577.654896  \n",
      "min          4.274692     1.746091  \n",
      "25%         10.301525    31.410120  \n",
      "50%         15.686305    74.630361  \n",
      "75%         21.227483   152.068303  \n",
      "max         65.532527  7231.766382  \n"
     ]
    }
   ],
   "source": [
    "%matplotlib inline\n",
    "\n",
    "# Create dictionary of codes we wish to query to human readable names\n",
    "\n",
    "code_dict = {\"SP.DYN.LE00.IN\" : \"LifeExpectancy\", \n",
    "             \"SP.DYN.IMRT.IN\" : \"InfantMort\",\n",
    "             \"SP.DYN.TFRT.IN\" : \"Fertility\",\n",
    "             \"EN.POP.DNST\" : \"PopDens\",\n",
    "             \"NY.GDP.PCAP.PP.KD\" : \"GDPperCap\",\n",
    "             \"EN.ATM.PM25.MC.M3\" : \"PM2.5Exp\",\n",
    "             \"EN.ATM.CO2E.PP.GD.KD\" : \"CO2\"}\n",
    "\n",
    "# Create SQL query\n",
    "\n",
    "stmt = sqla.select([tables[\"Indicators\"].c.CountryName, \n",
    "                    tables[\"Indicators\"].c.IndicatorCode.label(\"Indicator\"),\n",
    "                    tables[\"Indicators\"].c.Value])\n",
    "\n",
    "\n",
    "# Use to avoid selecting regions instead of countries\n",
    "stmt = stmt.select_from(tables[\"Indicators\"].join(tables[\"Country\"],\n",
    "                                                 tables[\"Country\"].c.CountryCode == tables[\"Indicators\"].c.CountryCode))\n",
    "\n",
    "stmt = stmt.where(sqla.and_(tables[\"Country\"].c.Region.isnot(\"\"),\n",
    "                            tables[\"Indicators\"].c.IndicatorCode.in_(list(code_dict.keys())),\n",
    "                            tables[\"Indicators\"].c.Year == 2010)\n",
    "    )\n",
    "\n",
    "conn = engine.connect()\n",
    "\n",
    "life_exp = pd.read_sql_query(stmt, conn)\n",
    "\n",
    "# Change codes to readable names\n",
    "life_exp[\"Indicator\"].replace(code_dict, inplace=True)\n",
    "\n",
    "# Change from long to wide format\n",
    "life_exp = life_exp.pivot(index=\"CountryName\", columns = \"Indicator\", values = \"Value\")\n",
    "\n",
    "# Remove NA values\n",
    "life_exp.dropna(inplace=True)\n",
    "\n",
    "print(life_exp.info())\n",
    "print(life_exp.describe())\n",
    "\n",
    "\n",
    "\n",
    "conn.close()"
   ]
  },
  {
   "cell_type": "markdown",
   "metadata": {},
   "source": [
    "Although we lost some data by removing missing values, we now have a dataset that we can explore further to see how they might predict Life Expectancy. We first may want to check which predictors are correlated with LifeExpetancy and which predictors are correlated with each other. For the latter, we want to check for possible covariance. For example, countries that are richer might emit more CO2, so GDP per capita might also be related to CO2 emissions per GDP. "
   ]
  },
  {
   "cell_type": "code",
   "execution_count": 32,
   "metadata": {
    "collapsed": false
   },
   "outputs": [
    {
     "data": {
      "text/plain": [
       "<matplotlib.axes._subplots.AxesSubplot at 0x168d92fc978>"
      ]
     },
     "execution_count": 32,
     "metadata": {},
     "output_type": "execute_result"
    },
    {
     "data": {
      "image/png": "[encoded data removed]",
      "text/plain": [
       "<matplotlib.figure.Figure at 0x168d9759550>"
      ]
     },
     "metadata": {},
     "output_type": "display_data"
    }
   ],
   "source": [
    "%matplotlib inline\n",
    "\n",
    "sns.heatmap(life_exp.corr(), square=True, cmap='RdYlBu')"
   ]
  },
  {
   "cell_type": "markdown",
   "metadata": {},
   "source": [
    "Certainly, each variable is highly correlated with itself. However, it seems PM2.5 Exposure and Population density are only weakly correlated to each other variable. Of the variables shown here, Fertility, GDP per Capita, and Infant Mortality seem most strongly correlated with LifeExpectancy. However, each of these also seem to be highly interrelated as shown by the more intense blue/orange colors. "
   ]
  },
  {
   "cell_type": "code",
   "execution_count": null,
   "metadata": {
    "collapsed": true
   },
   "outputs": [],
   "source": []
  }
 ],
 "metadata": {
  "kernelspec": {
   "display_name": "Python 3",
   "language": "python",
   "name": "python3"
  },
  "language_info": {
   "codemirror_mode": {
    "name": "ipython",
    "version": 3
   },
   "file_extension": ".py",
   "mimetype": "text/x-python",
   "name": "python",
   "nbconvert_exporter": "python",
   "pygments_lexer": "ipython3",
   "version": "3.6.0"
  }
 },
 "nbformat": 4,
 "nbformat_minor": 2
}
