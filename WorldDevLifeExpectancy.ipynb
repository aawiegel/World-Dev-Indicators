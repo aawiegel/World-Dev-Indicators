{
 "cells": [
  {
   "cell_type": "markdown",
   "metadata": {},
   "source": [
    "# World Development Indicators and Life Expectancy in 2010\n",
    "\n",
    "This notebook examines adult literacy worldwide and what factors lead to having a high life expectancy in the year 2010. The data used in this notebook come from [Kaggle](https://www.kaggle.com/worldbank/world-development-indicators). To start, we load in the relevant libraries and SQLite database using SQLalchemy and print the table and column names."
   ]
  },
  {
   "cell_type": "code",
   "execution_count": 1,
   "metadata": {
    "collapsed": true
   },
   "outputs": [],
   "source": [
    "# import relevant libraries\n",
    "\n",
    "import numpy as np\n",
    "import pandas as pd\n",
    "import matplotlib as mpl\n",
    "import matplotlib.pyplot as plt\n",
    "import seaborn as sns\n",
    "import sqlalchemy as sqla"
   ]
  },
  {
   "cell_type": "code",
   "execution_count": 2,
   "metadata": {
    "collapsed": false
   },
   "outputs": [
    {
     "name": "stdout",
     "output_type": "stream",
     "text": [
      "\n",
      "Country columns:\n",
      "\n",
      "CountryCode\n",
      "ShortName\n",
      "TableName\n",
      "LongName\n",
      "Alpha2Code\n",
      "CurrencyUnit\n",
      "SpecialNotes\n",
      "Region\n",
      "IncomeGroup\n",
      "Wb2Code\n",
      "NationalAccountsBaseYear\n",
      "NationalAccountsReferenceYear\n",
      "SnaPriceValuation\n",
      "LendingCategory\n",
      "OtherGroups\n",
      "SystemOfNationalAccounts\n",
      "AlternativeConversionFactor\n",
      "PppSurveyYear\n",
      "BalanceOfPaymentsManualInUse\n",
      "ExternalDebtReportingStatus\n",
      "SystemOfTrade\n",
      "GovernmentAccountingConcept\n",
      "ImfDataDisseminationStandard\n",
      "LatestPopulationCensus\n",
      "LatestHouseholdSurvey\n",
      "SourceOfMostRecentIncomeAndExpenditureData\n",
      "VitalRegistrationComplete\n",
      "LatestAgriculturalCensus\n",
      "LatestIndustrialData\n",
      "LatestTradeData\n",
      "LatestWaterWithdrawalData\n",
      "\n",
      "CountryNotes columns:\n",
      "\n",
      "Countrycode\n",
      "Seriescode\n",
      "Description\n",
      "\n",
      "Footnotes columns:\n",
      "\n",
      "Countrycode\n",
      "Seriescode\n",
      "Year\n",
      "Description\n",
      "\n",
      "Indicators columns:\n",
      "\n",
      "CountryName\n",
      "CountryCode\n",
      "IndicatorName\n",
      "IndicatorCode\n",
      "Year\n",
      "Value\n",
      "\n",
      "Series columns:\n",
      "\n",
      "SeriesCode\n",
      "Topic\n",
      "IndicatorName\n",
      "ShortDefinition\n",
      "LongDefinition\n",
      "UnitOfMeasure\n",
      "Periodicity\n",
      "BasePeriod\n",
      "OtherNotes\n",
      "AggregationMethod\n",
      "LimitationsAndExceptions\n",
      "NotesFromOriginalSource\n",
      "GeneralComments\n",
      "Source\n",
      "StatisticalConceptAndMethodology\n",
      "DevelopmentRelevance\n",
      "RelatedSourceLinks\n",
      "OtherWebLinks\n",
      "RelatedIndicators\n",
      "LicenseType\n",
      "\n",
      "SeriesNotes columns:\n",
      "\n",
      "Seriescode\n",
      "Year\n",
      "Description\n"
     ]
    }
   ],
   "source": [
    "# Connect to SQLite database found in database.sqlite\n",
    "\n",
    "metadata = sqla.MetaData()\n",
    "\n",
    "engine =  sqla.create_engine(\"sqlite:///database.sqlite\")\n",
    "\n",
    "table_names = engine.table_names()\n",
    "\n",
    "tables = dict()\n",
    "\n",
    "for table in table_names:\n",
    "    print(\"\\n\"+table+\" columns:\\n\")\n",
    "    tables[table] = sqla.Table(table, metadata, autoload=True, autoload_with=engine)\n",
    "    for column in tables[table].c.keys():\n",
    "        print(column)"
   ]
  },
  {
   "cell_type": "markdown",
   "metadata": {},
   "source": [
    "## Initial Exploratory Analysis\n",
    "\n",
    "Once we have created an engine and loaded the tables from the database, we can then do an exploratory analysis of the data. We want to examine life expectancy, but first we must find which indicator in our table refers to this field. We use the Indicators and Series table to find indicators with the word \"life expectancy\" in them, and print the name of the indicator, the IndicatorCode, and a description of the Indicator."
   ]
  },
  {
   "cell_type": "code",
   "execution_count": 3,
   "metadata": {
    "collapsed": false
   },
   "outputs": [
    {
     "name": "stdout",
     "output_type": "stream",
     "text": [
      "Life expectancy at birth, female (years) SP.DYN.LE00.FE.IN\n",
      "Life expectancy at birth indicates the number of years a newborn infant would live if prevailing patterns of mortality at the time of its birth were to stay the same throughout its life.\n",
      "\n",
      "\n",
      "Life expectancy at birth, male (years) SP.DYN.LE00.MA.IN\n",
      "Life expectancy at birth indicates the number of years a newborn infant would live if prevailing patterns of mortality at the time of its birth were to stay the same throughout its life.\n",
      "\n",
      "\n",
      "Life expectancy at birth, total (years) SP.DYN.LE00.IN\n",
      "Life expectancy at birth indicates the number of years a newborn infant would live if prevailing patterns of mortality at the time of its birth were to stay the same throughout its life.\n",
      "\n",
      "\n"
     ]
    }
   ],
   "source": [
    "# Create SQL query function (We'll use a similar query again later)\n",
    "\n",
    "# Select distinct IndicatorNames (to avoid repeating the same indicator for each country)\n",
    "\n",
    "def find_indicator_strings(indicator):\n",
    "    stmt = sqla.select([tables[\"Indicators\"].c.IndicatorName.distinct(), \n",
    "                        tables[\"Indicators\"].c.IndicatorCode,\n",
    "                        tables[\"Series\"].c.LongDefinition])\n",
    "\n",
    "    # Use JOIN to find description under series name\n",
    "\n",
    "    stmt = stmt.select_from(\n",
    "        tables[\"Indicators\"].join(tables[\"Series\"], \n",
    "                                 tables[\"Indicators\"].c.IndicatorCode == tables[\"Series\"].c.SeriesCode)\n",
    "    )\n",
    "\n",
    "    # Find indicators that have indicator somewhere\n",
    "\n",
    "    return stmt.where(tables[\"Indicators\"].c.IndicatorName.ilike(\"%\"+indicator+\"%\"))\n",
    "\n",
    "stmt = find_indicator_strings(\"life expectancy\")\n",
    "\n",
    "# Connect to the engine and execute the statement.\n",
    "\n",
    "conn = engine.connect()\n",
    "\n",
    "for result in conn.execute(stmt):\n",
    "    print(result.IndicatorName, result.IndicatorCode)\n",
    "    print(result.LongDefinition)\n",
    "    print(\"\\n\")\n",
    "\n",
    "conn.close()"
   ]
  },
  {
   "cell_type": "markdown",
   "metadata": {},
   "source": [
    "From these queries, we have identified that the indicator that most closely matches our query is the life expectancy at birth, which has the code SP.DYN.LE00.IN. We then use this to select the life expectancy for the year 2010 and plot it on a histogram."
   ]
  },
  {
   "cell_type": "code",
   "execution_count": 4,
   "metadata": {
    "collapsed": false,
    "scrolled": false
   },
   "outputs": [
    {
     "name": "stdout",
     "output_type": "stream",
     "text": [
      "<class 'pandas.core.frame.DataFrame'>\n",
      "RangeIndex: 200 entries, 0 to 199\n",
      "Data columns (total 2 columns):\n",
      "CountryName       200 non-null object\n",
      "LifeExpectancy    200 non-null float64\n",
      "dtypes: float64(1), object(1)\n",
      "memory usage: 3.2+ KB\n",
      "None\n",
      "       LifeExpectancy\n",
      "count      200.000000\n",
      "mean        70.281327\n",
      "std          8.947131\n",
      "min         47.483415\n",
      "25%         64.771524\n",
      "50%         72.798463\n",
      "75%         76.722341\n",
      "max         83.159379\n"
     ]
    },
    {
     "name": "stderr",
     "output_type": "stream",
     "text": [
      "C:\\Users\\aawie\\AppData\\Local\\Continuum\\Anaconda3\\lib\\site-packages\\sqlalchemy\\sql\\sqltypes.py:596: SAWarning: Dialect sqlite+pysqlite does *not* support Decimal objects natively, and SQLAlchemy must convert from floating point - rounding errors and other issues may occur. Please consider storing Decimal numbers as strings or integers on this platform for lossless storage.\n",
      "  'storage.' % (dialect.name, dialect.driver))\n"
     ]
    },
    {
     "data": {
      "image/png": "[encoded data removed]",
      "text/plain": [
       "<matplotlib.figure.Figure at 0x191ec464588>"
      ]
     },
     "metadata": {},
     "output_type": "display_data"
    }
   ],
   "source": [
    "%matplotlib inline\n",
    "# Create SQL query\n",
    "\n",
    "stmt = sqla.select([tables[\"Indicators\"].c.CountryName, tables[\"Indicators\"].c.Value.label(\"LifeExpectancy\")])\n",
    "\n",
    "\n",
    "# Use to avoid selecting regions instead of countries\n",
    "stmt = stmt.select_from(tables[\"Indicators\"].join(tables[\"Country\"],\n",
    "                                                 tables[\"Country\"].c.CountryCode == tables[\"Indicators\"].c.CountryCode))\n",
    "\n",
    "stmt = stmt.where(sqla.and_(tables[\"Country\"].c.Region.isnot(\"\"),\n",
    "                            tables[\"Indicators\"].c.IndicatorCode == \"SP.DYN.LE00.IN\",\n",
    "                            tables[\"Indicators\"].c.Year == 2010)\n",
    "    )\n",
    "\n",
    "\n",
    "conn = engine.connect()\n",
    "\n",
    "# Load into pandas dataframe\n",
    "\n",
    "life_exp = pd.read_sql_query(stmt, conn)\n",
    "\n",
    "print(life_exp.info())\n",
    "print(life_exp.describe())\n",
    "\n",
    "\n",
    "plt.hist(life_exp[\"LifeExpectancy\"], bins = 14)\n",
    "plt.xlabel(\"Life Expectancy from Birth\")\n",
    "plt.ylabel(\"Count\")\n",
    "\n",
    "conn.close()"
   ]
  },
  {
   "cell_type": "markdown",
   "metadata": {
    "collapsed": true
   },
   "source": [
    "From our histogram and description of the dataset, we can see that the mean life expectancy in 2010 was about 70, although the distribution is skewed left since the median is actually almost 73 years.\n",
    "\n",
    "## Exploring possible predictors\n",
    "\n",
    "We then would like to query for other available indicators so that later we can use machine learning to try to understand what may predict life expectancy. Using our earlier function we defined to try to find several different predictors. We would like to investigate how public health (in terms of infant mortality and environmental factors), economics, and education affect life expectancy. Here, we look for infant mortality, fertility, population density, GDP per capita, Inflation, PM2.5 Exposure, and CO2 emissions, and school enrolment."
   ]
  },
  {
   "cell_type": "code",
   "execution_count": 5,
   "metadata": {
    "collapsed": false,
    "scrolled": false
   },
   "outputs": [
    {
     "name": "stdout",
     "output_type": "stream",
     "text": [
      "infant\n",
      "\n",
      "Completeness of infant death reporting (% of reported infant deaths to estimated infant deaths) SP.DTH.INFR.ZS\n",
      "Completeness of infant death reporting is the number of infant deaths reported by national statistics authorities to the United Nations Statistics Division's Demography Yearbook divided by the number of infant deaths estimated by the United Nations Population Division.\n",
      "\n",
      "\n",
      "Mortality rate, infant (per 1,000 live births) SP.DYN.IMRT.IN\n",
      "Infant mortality rate is the number of infants dying before reaching one year of age, per 1,000 live births in a given year.\n",
      "\n",
      "\n",
      "Mortality rate, infant, female (per 1,000 live births) SP.DYN.IMRT.FE.IN\n",
      "Infant mortality rate, female is the number of female infants dying before reaching one year of age, per 1,000 female live births in a given year.\n",
      "\n",
      "\n",
      "Mortality rate, infant, male (per 1,000 live births) SP.DYN.IMRT.MA.IN\n",
      "Infant mortality rate, male is the number of male infants dying before reaching one year of age, per 1,000 male live births in a given year.\n",
      "\n",
      "\n",
      "Number of infant deaths SH.DTH.IMRT\n",
      "Number of infants dying before reaching one year of age.\n",
      "\n",
      "\n",
      "fertility\n",
      "\n",
      "Adolescent fertility rate (births per 1,000 women ages 15-19) SP.ADO.TFRT\n",
      "Adolescent fertility rate is the number of births per 1,000 women ages 15-19.\n",
      "\n",
      "\n",
      "Fertility rate, total (births per woman) SP.DYN.TFRT.IN\n",
      "Total fertility rate represents the number of children that would be born to a woman if she were to live to the end of her childbearing years and bear children in accordance with current age-specific fertility rates.\n",
      "\n",
      "\n",
      "Wanted fertility rate (births per woman) SP.DYN.WFRT\n",
      "Wanted fertility rate is an estimate of what the total fertility rate would be if all unwanted births were avoided.\n",
      "\n",
      "\n",
      "population density\n",
      "\n",
      "Population density (people per sq. km of land area) EN.POP.DNST\n",
      "Population density is midyear population divided by land area in square kilometers. Population is based on the de facto definition of population, which counts all residents regardless of legal status or citizenship--except for refugees not permanently settled in the country of asylum, who are generally considered part of the population of their country of origin. Land area is a country's total area, excluding area under inland water bodies, national claims to continental shelf, and exclusive economic zones. In most cases the definition of inland water bodies includes major rivers and lakes.\n",
      "\n",
      "\n",
      "GDP per capita\n",
      "\n",
      "GDP per capita (constant 2005 US$) NY.GDP.PCAP.KD\n",
      "GDP per capita is gross domestic product divided by midyear population. GDP is the sum of gross value added by all resident producers in the economy plus any product taxes and minus any subsidies not included in the value of the products. It is calculated without making deductions for depreciation of fabricated assets or for depletion and degradation of natural resources. Data are in constant 2005 U.S. dollars.\n",
      "\n",
      "\n",
      "GDP per capita (constant LCU) NY.GDP.PCAP.KN\n",
      "GDP per capita is gross domestic product divided by midyear population. GDP at purchaser's prices is the sum of gross value added by all resident producers in the economy plus any product taxes and minus any subsidies not included in the value of the products. It is calculated without making deductions for depreciation of fabricated assets or for depletion and degradation of natural resources. Data are in constant local currency.\n",
      "\n",
      "\n",
      "GDP per capita (current LCU) NY.GDP.PCAP.CN\n",
      "GDP per capita is gross domestic product divided by midyear population. GDP is the sum of gross value added by all resident producers in the economy plus any product taxes and minus any subsidies not included in the value of the products. It is calculated without making deductions for depreciation of fabricated assets or for depletion and degradation of natural resources. Data are in current local currency.\n",
      "\n",
      "\n",
      "GDP per capita (current US$) NY.GDP.PCAP.CD\n",
      "GDP per capita is gross domestic product divided by midyear population. GDP is the sum of gross value added by all resident producers in the economy plus any product taxes and minus any subsidies not included in the value of the products. It is calculated without making deductions for depreciation of fabricated assets or for depletion and degradation of natural resources. Data are in current U.S. dollars.\n",
      "\n",
      "\n",
      "GDP per capita growth (annual %) NY.GDP.PCAP.KD.ZG\n",
      "Annual percentage growth rate of GDP per capita based on constant local currency. Aggregates are based on constant 2005 U.S. dollars. GDP per capita is gross domestic product divided by midyear population. GDP at purchaser's prices is the sum of gross value added by all resident producers in the economy plus any product taxes and minus any subsidies not included in the value of the products. It is calculated without making deductions for depreciation of fabricated assets or for depletion and degradation of natural resources.\n",
      "\n",
      "\n",
      "GDP per capita, PPP (constant 2011 international $) NY.GDP.PCAP.PP.KD\n",
      "GDP per capita based on purchasing power parity (PPP). PPP GDP is gross domestic product converted to international dollars using purchasing power parity rates. An international dollar has the same purchasing power over GDP as the U.S. dollar has in the United States. GDP at purchaser's prices is the sum of gross value added by all resident producers in the economy plus any product taxes and minus any subsidies not included in the value of the products. It is calculated without making deductions for depreciation of fabricated assets or for depletion and degradation of natural resources. Data are in constant 2011 international dollars.\n",
      "\n",
      "\n",
      "GDP per capita, PPP (current international $) NY.GDP.PCAP.PP.CD\n",
      "GDP per capita based on purchasing power parity (PPP). PPP GDP is gross domestic product converted to international dollars using purchasing power parity rates. An international dollar has the same purchasing power over GDP as the U.S. dollar has in the United States. GDP at purchaser's prices is the sum of gross value added by all resident producers in the economy plus any product taxes and minus any subsidies not included in the value of the products. It is calculated without making deductions for depreciation of fabricated assets or for depletion and degradation of natural resources. Data are in current international dollars based on the 2011 ICP round.\n",
      "\n",
      "\n",
      "Government expenditure per primary student as % of GDP per capita (%) SE.XPD.PRIM.PC.ZS\n",
      "Government expenditure per student is the average general government expenditure (current, capital, and transfers) per student in the given level of education, expressed as a percentage of GDP per capita.\n",
      "\n",
      "\n",
      "Government expenditure per secondary student as % of GDP per capita (%) SE.XPD.SECO.PC.ZS\n",
      "Government expenditure per student is the average general government expenditure (current, capital, and transfers) per student in the given level of education, expressed as a percentage of GDP per capita.\n",
      "\n",
      "\n",
      "Government expenditure per tertiary student as % of GDP per capita (%) SE.XPD.TERT.PC.ZS\n",
      "Government expenditure per student is the average general government expenditure (current, capital, and transfers) per student in the given level of education, expressed as a percentage of GDP per capita.\n",
      "\n",
      "\n",
      "Inflation\n",
      "\n",
      "Inflation, GDP deflator (annual %) NY.GDP.DEFL.KD.ZG\n",
      "Inflation as measured by the annual growth rate of the GDP implicit deflator shows the rate of price change in the economy as a whole. The GDP implicit deflator is the ratio of GDP in current local currency to GDP in constant local currency.\n",
      "\n",
      "\n",
      "Inflation, consumer prices (annual %) FP.CPI.TOTL.ZG\n",
      "Inflation as measured by the consumer price index reflects the annual percentage change in the cost to the average consumer of acquiring a basket of goods and services that may be fixed or changed at specified intervals, such as yearly. The Laspeyres formula is generally used.\n",
      "\n",
      "\n",
      "PM2.5\n",
      "\n",
      "PM2.5 air pollution, mean annual exposure (micrograms per cubic meter) EN.ATM.PM25.MC.M3\n",
      "Population-weighted exposure to ambient PM2.5 pollution is defined as the average level of exposure of a nation's population to concentrations of suspended particles measuring less than 2.5 microns in aerodynamic diameter, which are capable of penetrating deep into the respiratory tract and causing severe health damage. Exposure is calculated by weighting mean annual concentrations of PM2.5 by population in both urban and rural areas.\n",
      "\n",
      "\n",
      "PM2.5 air pollution, population exposed to levels exceeding WHO guideline value (% of total) EN.ATM.PM25.MC.ZS\n",
      "Percent of population exposed to ambient concentrations of PM2.5 that exceed the WHO guideline value is defined as the portion of a countrys population living in places where mean annual concentrations of PM2.5 are greater than 10 micrograms per cubic meter, the guideline value recommended by the World Health Organization as the lower end of the range of concentrations over which adverse health effects due to PM2.5 exposure have been observed.\n",
      "\n",
      "\n",
      "CO2 emissions\n",
      "\n",
      "CO2 emissions (kg per 2005 US$ of GDP) EN.ATM.CO2E.KD.GD\n",
      "Carbon dioxide emissions are those stemming from the burning of fossil fuels and the manufacture of cement. They include carbon dioxide produced during consumption of solid, liquid, and gas fuels and gas flaring.\n",
      "\n",
      "\n",
      "CO2 emissions (kg per 2011 PPP $ of GDP) EN.ATM.CO2E.PP.GD.KD\n",
      "Carbon dioxide emissions are those stemming from the burning of fossil fuels and the manufacture of cement. They include carbon dioxide produced during consumption of solid, liquid, and gas fuels and gas flaring.\n",
      "\n",
      "\n",
      "CO2 emissions (kg per PPP $ of GDP) EN.ATM.CO2E.PP.GD\n",
      "Carbon dioxide emissions are those stemming from the burning of fossil fuels and the manufacture of cement. They include carbon dioxide produced during consumption of solid, liquid, and gas fuels and gas flaring.\n",
      "\n",
      "\n",
      "CO2 emissions (kt) EN.ATM.CO2E.KT\n",
      "Carbon dioxide emissions are those stemming from the burning of fossil fuels and the manufacture of cement. They include carbon dioxide produced during consumption of solid, liquid, and gas fuels and gas flaring.\n",
      "\n",
      "\n",
      "CO2 emissions (metric tons per capita) EN.ATM.CO2E.PC\n",
      "Carbon dioxide emissions are those stemming from the burning of fossil fuels and the manufacture of cement. They include carbon dioxide produced during consumption of solid, liquid, and gas fuels and gas flaring.\n",
      "\n",
      "\n",
      "CO2 emissions from electricity and heat production, total (% of total fuel combustion) EN.CO2.ETOT.ZS\n",
      "CO2 emissions from electricity and heat production is the sum of three IEA categories of CO2 emissions: (1) Main Activity Producer Electricity and Heat which contains the sum of emissions from main activity producer electricity generation, combined heat and power generation and heat plants. Main activity producers  (formerly known as public utilities) are defined as those undertakings whose primary activity is to supply the public. They may be publicly or privately owned. This corresponds to IPCC Source/Sink Category 1 A 1 a. For the CO2 emissions from fuel combustion (summary) file, emissions from own on-site use of fuel in power plants (EPOWERPLT) are also included. (2) Unallocated Autoproducers which contains the emissions from the generation of electricity and/or heat by autoproducers. Autoproducers are defined as undertakings that generate electricity and/or heat, wholly or partly for their own use as an activity which supports their primary activity. They may be privately or publicly owned. In the 1996 IPCC Guidelines, these emissions would normally be distributed between industry, transport and \"other\" sectors. (3) Other Energy Industries contains emissions from fuel combusted in petroleum refineries, for the manufacture of solid fuels, coal mining, oil and gas extraction and other energy-producing industries. This corresponds to the IPCC Source/Sink Categories 1 A 1 b and 1 A 1 c. According to the 1996 IPCC Guidelines, emissions from coke inputs to blast furnaces can either be counted here or in the Industrial Processes source/sink category. Within detailed sectoral calculations, certain non-energy processes can be distinguished. In the reduction of iron in a blast furnace through the combustion of coke, the primary purpose of the coke oxidation is to produce pig iron and the emissions can be considered as an industrial process. Care must be taken not to double count these emissions in both Energy and Industrial Processes. In the IEA estimations, these emissions have been included in this category.\n",
      "\n",
      "\n",
      "CO2 emissions from gaseous fuel consumption (% of total) EN.ATM.CO2E.GF.ZS\n",
      "Carbon dioxide emissions from liquid fuel consumption refer mainly to emissions from use of natural gas as an energy source.\n",
      "\n",
      "\n",
      "CO2 emissions from gaseous fuel consumption (kt) EN.ATM.CO2E.GF.KT\n",
      "Carbon dioxide emissions from liquid fuel consumption refer mainly to emissions from use of natural gas as an energy source.\n",
      "\n",
      "\n",
      "CO2 emissions from liquid fuel consumption (% of total) EN.ATM.CO2E.LF.ZS\n",
      "Carbon dioxide emissions from liquid fuel consumption refer mainly to emissions from use of petroleum-derived fuels as an energy source.\n",
      "\n",
      "\n",
      "CO2 emissions from liquid fuel consumption (kt) EN.ATM.CO2E.LF.KT\n",
      "Carbon dioxide emissions from liquid fuel consumption refer mainly to emissions from use of petroleum-derived fuels as an energy source.\n",
      "\n",
      "\n",
      "CO2 emissions from manufacturing industries and construction (% of total fuel combustion) EN.CO2.MANF.ZS\n",
      "CO2 emissions from manufacturing industries and construction contains the emissions from combustion of fuels in industry. The IPCC Source/Sink Category 1 A 2 includes these emissions. However, in the 1996 IPCC Guidelines, the IPCC category also includes emissions from industry autoproducers that generate electricity and/or heat. The IEA data are not collected in a way that allows the energy consumption to be split by specific end-use and therefore, autoproducers are shown as a separate item (Unallocated Autoproducers). Manufacturing industries and construction also includes emissions from coke inputs into blast furnaces, which may be reported either in the transformation sector, the industry sector or the separate IPCC Source/Sink Category 2, Industrial Processes.\n",
      "\n",
      "\n",
      "CO2 emissions from other sectors, excluding residential buildings and commercial and public services (% of total fuel combustion) EN.CO2.OTHX.ZS\n",
      "CO2 emissions from other sectors, less residential buildings and commercial and public services, contains the emissions from commercial/institutional activities, residential, agriculture/forestry, fishing and other emissions not specified elsewhere that are included in the IPCC Source/Sink Categories 1 A 4 and 1 A 5. In the 1996 IPCC Guidelines, the category also includes emissions from autoproducers in the commercial/residential/agricultural sectors that generate electricity and/or heat. The IEA data are not collected in a way that allows the energy consumption to be split by specific end-use and therefore, autoproducers are shown as a separate item (Unallocated Autoproducers).\n",
      "\n",
      "\n",
      "CO2 emissions from residential buildings and commercial and public services (% of total fuel combustion) EN.CO2.BLDG.ZS\n",
      "CO2 emissions from residential buildings and commercial and public services contains all emissions from fuel combustion in households. This corresponds to IPCC Source/Sink Category 1 A 4 b. Commercial and public services includes emissions from all activities of ISIC Divisions 41, 50-52, 55, 63-67, 70-75, 80, 85, 90-93 and 99.\n",
      "\n",
      "\n",
      "CO2 emissions from solid fuel consumption (% of total) EN.ATM.CO2E.SF.ZS\n",
      "Carbon dioxide emissions from solid fuel consumption refer mainly to emissions from use of coal as an energy source.\n",
      "\n",
      "\n",
      "CO2 emissions from solid fuel consumption (kt) EN.ATM.CO2E.SF.KT\n",
      "Carbon dioxide emissions from solid fuel consumption refer mainly to emissions from use of coal as an energy source.\n",
      "\n",
      "\n",
      "CO2 emissions from transport (% of total fuel combustion) EN.CO2.TRAN.ZS\n",
      "CO2 emissions from transport contains emissions from the combustion of fuel for all transport activity, regardless of the sector, except for international marine bunkers and international aviation. This includes domestic aviation, domestic navigation, road, rail and pipeline transport, and corresponds to IPCC Source/Sink Category 1 A 3. In addition, the IEA data are not collected in a way that allows the autoproducer consumption to be split by specific end-use and therefore, autoproducers are shown as a separate item (Unallocated Autoproducers).\n",
      "\n",
      "\n",
      "enrolment\n",
      "\n",
      "Adjusted net enrolment rate, primary, both sexes (%) SE.PRM.TENR\n",
      "Adjusted net enrollment is the number of pupils of the school-age group for primary education, enrolled either in primary or secondary education, expressed as a percentage of the total population in that age group.\n",
      "\n",
      "\n",
      "Adjusted net enrolment rate, primary, female (%) SE.PRM.TENR.FE\n",
      "Adjusted net enrollment is the number of pupils of the school-age group for primary education, enrolled either in primary or secondary education, expressed as a percentage of the total population in that age group.\n",
      "\n",
      "\n",
      "Adjusted net enrolment rate, primary, male (%) SE.PRM.TENR.MA\n",
      "Adjusted net enrollment is the number of pupils of the school-age group for primary education, enrolled either in primary or secondary education, expressed as a percentage of the total population in that age group.\n",
      "\n",
      "\n",
      "Enrolment in primary education, both sexes (number) SE.PRM.ENRL\n",
      "Primary education pupils is the total number of pupils enrolled at primary level in public and private schools.\n",
      "\n",
      "\n",
      "Enrolment in secondary education, both sexes (number) SE.SEC.ENRL\n",
      "Secondary education pupils is the total number of pupils enrolled at secondary level in public and private schools.\n",
      "\n",
      "\n",
      "Enrolment in secondary general, both sexes (number) SE.SEC.ENRL.GC\n",
      "Secondary general pupils are the number of secondary students enrolled in general education programs, including teacher training.\n",
      "\n",
      "\n",
      "Enrolment in secondary vocational, both sexes (number) SE.SEC.ENRL.VO\n",
      "Secondary vocational pupils are the number of secondary students enrolled in technical and vocational education programs, including teacher training.\n",
      "\n",
      "\n",
      "Gross enrolment ratio, pre-primary, both sexes (%) SE.PRE.ENRR\n",
      "Gross enrollment ratio is the ratio of total enrollment, regardless of age, to the population of the age group that officially corresponds to the level of education shown. Preprimary education refers to programs at the initial stage of organized instruction, designed primarily to introduce very young children to a school-type environment and to provide a bridge between home and school.\n",
      "\n",
      "\n",
      "Gross enrolment ratio, pre-primary, female (%) SE.PRE.ENRR.FE\n",
      "Gross enrollment ratio is the ratio of total enrollment, regardless of age, to the population of the age group that officially corresponds to the level of education shown. Preprimary education refers to programs at the initial stage of organized instruction, designed primarily to introduce very young children to a school-type environment and to provide a bridge between home and school.\n",
      "\n",
      "\n",
      "Gross enrolment ratio, pre-primary, male (%) SE.PRE.ENRR.MA\n",
      "Gross enrollment ratio is the ratio of total enrollment, regardless of age, to the population of the age group that officially corresponds to the level of education shown. Preprimary education refers to programs at the initial stage of organized instruction, designed primarily to introduce very young children to a school-type environment and to provide a bridge between home and school.\n",
      "\n",
      "\n",
      "Gross enrolment ratio, primary and secondary, gender parity index (GPI) SE.ENR.PRSC.FM.ZS\n",
      "Gender parity index for gross enrollment ratio in primary and secondary education is the ratio of girls to boys enrolled at primary and secondary levels in public and private schools.\n",
      "\n",
      "\n",
      "Gross enrolment ratio, primary, both sexes (%) SE.PRM.ENRR\n",
      "Gross enrollment ratio is the ratio of total enrollment, regardless of age, to the population of the age group that officially corresponds to the level of education shown. Primary education provides children with basic reading, writing, and mathematics skills along with an elementary understanding of such subjects as history, geography, natural science, social science, art, and music.\n",
      "\n",
      "\n",
      "Gross enrolment ratio, primary, female (%) SE.PRM.ENRR.FE\n",
      "Gross enrollment ratio is the ratio of total enrollment, regardless of age, to the population of the age group that officially corresponds to the level of education shown. Primary education provides children with basic reading, writing, and mathematics skills along with an elementary understanding of such subjects as history, geography, natural science, social science, art, and music.\n",
      "\n",
      "\n",
      "Gross enrolment ratio, primary, gender parity index (GPI) SE.ENR.PRIM.FM.ZS\n",
      "Gender parity index for gross enrollment ratio in primary education is the ratio of girls to boys enrolled at primary level in public and private schools.\n",
      "\n",
      "\n",
      "Gross enrolment ratio, primary, male (%) SE.PRM.ENRR.MA\n",
      "Gross enrollment ratio is the ratio of total enrollment, regardless of age, to the population of the age group that officially corresponds to the level of education shown. Primary education provides children with basic reading, writing, and mathematics skills along with an elementary understanding of such subjects as history, geography, natural science, social science, art, and music.\n",
      "\n",
      "\n",
      "Gross enrolment ratio, secondary, both sexes (%) SE.SEC.ENRR\n",
      "Gross enrollment ratio is the ratio of total enrollment, regardless of age, to the population of the age group that officially corresponds to the level of education shown. Secondary education completes the provision of basic education that began at the primary level, and aims at laying the foundations for lifelong learning and human development, by offering more subject- or skill-oriented instruction using more specialized teachers.\n",
      "\n",
      "\n",
      "Gross enrolment ratio, secondary, female (%) SE.SEC.ENRR.FE\n",
      "Gross enrollment ratio is the ratio of total enrollment, regardless of age, to the population of the age group that officially corresponds to the level of education shown. Secondary education completes the provision of basic education that began at the primary level, and aims at laying the foundations for lifelong learning and human development, by offering more subject- or skill-oriented instruction using more specialized teachers.\n",
      "\n",
      "\n",
      "Gross enrolment ratio, secondary, gender parity index (GPI) SE.ENR.SECO.FM.ZS\n",
      "Gender parity index for gross enrollment ratio in secondary education is the ratio of girls to boys enrolled at secondary level in public and private schools.\n",
      "\n",
      "\n",
      "Gross enrolment ratio, secondary, male (%) SE.SEC.ENRR.MA\n",
      "Gross enrollment ratio is the ratio of total enrollment, regardless of age, to the population of the age group that officially corresponds to the level of education shown. Secondary education completes the provision of basic education that began at the primary level, and aims at laying the foundations for lifelong learning and human development, by offering more subject- or skill-oriented instruction using more specialized teachers.\n",
      "\n",
      "\n",
      "Gross enrolment ratio, tertiary, both sexes (%) SE.TER.ENRR\n",
      "Gross enrollment ratio is the ratio of total enrollment, regardless of age, to the population of the age group that officially corresponds to the level of education shown. Tertiary education, whether or not to an advanced research qualification, normally requires, as a minimum condition of admission, the successful completion of education at the secondary level.\n",
      "\n",
      "\n",
      "Gross enrolment ratio, tertiary, female (%) SE.TER.ENRR.FE\n",
      "Gross enrollment ratio is the ratio of total enrollment, regardless of age, to the population of the age group that officially corresponds to the level of education shown. Tertiary education, whether or not to an advanced research qualification, normally requires, as a minimum condition of admission, the successful completion of education at the secondary level.\n",
      "\n",
      "\n",
      "Gross enrolment ratio, tertiary, gender parity index (GPI) SE.ENR.TERT.FM.ZS\n",
      "Gender parity index for gross enrollment ratio in tertiary education is the ratio of women to men enrolled at tertiary level in public and private schools.\n",
      "\n",
      "\n",
      "Gross enrolment ratio, tertiary, male (%) SE.TER.ENRR.MA\n",
      "Gross enrollment ratio is the ratio of total enrollment, regardless of age, to the population of the age group that officially corresponds to the level of education shown. Tertiary education, whether or not to an advanced research qualification, normally requires, as a minimum condition of admission, the successful completion of education at the secondary level.\n",
      "\n",
      "\n",
      "Net enrolment rate, primary, both sexes (%) SE.PRM.NENR\n",
      "Net enrollment rate is the ratio of children of official school age who are enrolled in school to the population of the corresponding official school age. Primary education provides children with basic reading, writing, and mathematics skills along with an elementary understanding of such subjects as history, geography, natural science, social science, art, and music.\n",
      "\n",
      "\n",
      "Net enrolment rate, primary, female (%) SE.PRM.NENR.FE\n",
      "Net enrollment rate is the ratio of children of official school age who are enrolled in school to the population of the corresponding official school age. Primary education provides children with basic reading, writing, and mathematics skills along with an elementary understanding of such subjects as history, geography, natural science, social science, art, and music.\n",
      "\n",
      "\n",
      "Net enrolment rate, primary, male (%) SE.PRM.NENR.MA\n",
      "Net enrollment rate is the ratio of children of official school age who are enrolled in school to the population of the corresponding official school age. Primary education provides children with basic reading, writing, and mathematics skills along with an elementary understanding of such subjects as history, geography, natural science, social science, art, and music.\n",
      "\n",
      "\n",
      "Net enrolment rate, secondary, both sexes (%) SE.SEC.NENR\n",
      "Net enrollment rate is the ratio of children of official school age who are enrolled in school to the population of the corresponding official school age. Secondary education completes the provision of basic education that began at the primary level, and aims at laying the foundations for lifelong learning and human development, by offering more subject- or skill-oriented instruction using more specialized teachers.\n",
      "\n",
      "\n",
      "Net enrolment rate, secondary, female (%) SE.SEC.NENR.FE\n",
      "Net enrollment rate is the ratio of children of official school age who are enrolled in school to the population of the corresponding official school age. Secondary education completes the provision of basic education that began at the primary level, and aims at laying the foundations for lifelong learning and human development, by offering more subject- or skill-oriented instruction using more specialized teachers.\n",
      "\n",
      "\n",
      "Net enrolment rate, secondary, male (%) SE.SEC.NENR.MA\n",
      "Net enrollment rate is the ratio of children of official school age who are enrolled in school to the population of the corresponding official school age. Secondary education completes the provision of basic education that began at the primary level, and aims at laying the foundations for lifelong learning and human development, by offering more subject- or skill-oriented instruction using more specialized teachers.\n",
      "\n",
      "\n",
      "Percentage of enrolment in primary education in private institutions (%) SE.PRM.PRIV.ZS\n",
      "Private enrollment refers to pupils or students enrolled in institutions that are not operated by a public authority but controlled and managed, whether for profit or not, by a private body such as a nongovernmental organization, religious body, special interest group, foundation or business enterprise.\n",
      "\n",
      "\n",
      "Percentage of enrolment in secondary education in private institutions (%) SE.SEC.PRIV.ZS\n",
      "Private enrollment refers to pupils or students enrolled in institutions that are not operated by a public authority but controlled and managed, whether for profit or not, by a private body such as a nongovernmental organization, religious body, special interest group, foundation or business enterprise.\n",
      "\n",
      "\n"
     ]
    }
   ],
   "source": [
    "# Create list to look through\n",
    "string_list = [\"infant\", \"fertility\", \"population density\",\n",
    "               \"GDP per capita\", \"Inflation\", \"PM2.5\", \"CO2 emissions\",\n",
    "              \"enrolment\"]\n",
    "\n",
    "conn = engine.connect()\n",
    "\n",
    "for string in string_list:\n",
    "    print(string+\"\\n\")\n",
    "    stmt = find_indicator_strings(string)\n",
    "    for result in conn.execute(stmt):\n",
    "        print(result.IndicatorName, result.IndicatorCode)\n",
    "        print(result.LongDefinition)\n",
    "        print(\"\\n\")\n",
    "\n",
    "conn.close()\n",
    "    "
   ]
  },
  {
   "cell_type": "markdown",
   "metadata": {},
   "source": [
    "Here, we select Mortality rate, infant (per 1,000 live births) SP.DYN.IMRT.IN, Fertility rate, total (births per woman) SP.DYN.TFRT.IN, Population density (people per sq. km of land area) EN.POP.DNST, GDP per capita, PPP (constant 2011 international dollars) NY.GDP.PCAP.PP.KD, PM2.5 air pollution, mean annual exposure (micrograms per cubic meter) EN.ATM.PM25.MC.M3, CO2 emissions (kt) EN.ATM.CO2E.KT, and Adjusted net enrolment rate, primary, both sexes (%) SE.PRM.TENR. (In practice, we should likely select many more, but this notebook is meant to be a simple demonstration. Many of the indicators are somewhat redundant as well (multiple versions of GDP, etc.))"
   ]
  },
  {
   "cell_type": "code",
   "execution_count": 6,
   "metadata": {
    "collapsed": false
   },
   "outputs": [
    {
     "name": "stdout",
     "output_type": "stream",
     "text": [
      "<class 'pandas.core.frame.DataFrame'>\n",
      "Index: 114 entries, Algeria to Zambia\n",
      "Data columns (total 9 columns):\n",
      "CO2               114 non-null float64\n",
      "Fertility         114 non-null float64\n",
      "GDPperCap         114 non-null float64\n",
      "InfantMort        114 non-null float64\n",
      "Inflation         114 non-null float64\n",
      "LifeExpectancy    114 non-null float64\n",
      "PM2.5Exp          114 non-null float64\n",
      "PopDens           114 non-null float64\n",
      "PrimSecEdu        114 non-null float64\n",
      "dtypes: float64(9)\n",
      "memory usage: 8.9+ KB\n",
      "None\n",
      "Indicator           CO2   Fertility     GDPperCap  InfantMort   Inflation  \\\n",
      "count      1.140000e+02  114.000000    114.000000  114.000000  114.000000   \n",
      "mean       1.567793e+05    2.818605  17615.262894   24.974561    7.592769   \n",
      "std        5.555236e+05    1.486242  17266.709849   23.777247   12.068932   \n",
      "min        9.900900e+01    1.226000    707.787576    1.900000   -3.664628   \n",
      "25%        2.951018e+03    1.783250   4306.664721    5.225000    1.498760   \n",
      "50%        1.921508e+04    2.331500  11325.087771   16.350000    4.424879   \n",
      "75%        7.914761e+04    3.401250  28139.632668   38.775000   10.528749   \n",
      "max        5.408869e+06    7.667000  90790.829458  101.700000  103.822799   \n",
      "\n",
      "Indicator  LifeExpectancy    PM2.5Exp      PopDens  PrimSecEdu  \n",
      "count          114.000000  114.000000   114.000000  114.000000  \n",
      "mean            71.196859   17.816909   133.482649   92.383064  \n",
      "std              8.452294   10.667616   172.174951    9.608812  \n",
      "min             47.483415    5.939732     1.746091   56.569050  \n",
      "25%             66.432354   10.622029    31.048813   90.337208  \n",
      "50%             73.356866   15.737269    69.919999   96.109241  \n",
      "75%             77.414610   19.989947   166.798831   98.710535  \n",
      "max             82.842683   65.532527  1164.759753   99.949997  \n"
     ]
    }
   ],
   "source": [
    "%matplotlib inline\n",
    "\n",
    "# Create dictionary of codes we wish to query to human readable names\n",
    "\n",
    "code_dict = {\"SP.DYN.LE00.IN\" : \"LifeExpectancy\", \n",
    "             \"SP.DYN.IMRT.IN\" : \"InfantMort\",\n",
    "             \"SP.DYN.TFRT.IN\" : \"Fertility\",\n",
    "             \"EN.POP.DNST\" : \"PopDens\",\n",
    "             \"NY.GDP.PCAP.PP.KD\" : \"GDPperCap\",\n",
    "             \"NY.GDP.DEFL.KD.ZG\" : \"Inflation\",\n",
    "             \"EN.ATM.PM25.MC.M3\" : \"PM2.5Exp\",\n",
    "             \"EN.ATM.CO2E.KT\" : \"CO2\",\n",
    "             \"SE.PRM.TENR\" : \"PrimSecEdu\"}\n",
    "\n",
    "# Create SQL query\n",
    "\n",
    "stmt = sqla.select([tables[\"Indicators\"].c.CountryName, \n",
    "                    tables[\"Indicators\"].c.IndicatorCode.label(\"Indicator\"),\n",
    "                    tables[\"Indicators\"].c.Value])\n",
    "\n",
    "\n",
    "# Use to avoid selecting regions instead of countries\n",
    "stmt = stmt.select_from(tables[\"Indicators\"].join(tables[\"Country\"],\n",
    "                                                 tables[\"Country\"].c.CountryCode == tables[\"Indicators\"].c.CountryCode))\n",
    "\n",
    "stmt = stmt.where(sqla.and_(tables[\"Country\"].c.Region.isnot(\"\"),\n",
    "                            tables[\"Indicators\"].c.IndicatorCode.in_(list(code_dict.keys())),\n",
    "                            tables[\"Indicators\"].c.Year == 2010)\n",
    "    )\n",
    "\n",
    "conn = engine.connect()\n",
    "\n",
    "life_exp = pd.read_sql_query(stmt, conn)\n",
    "\n",
    "# Change codes to readable names\n",
    "life_exp[\"Indicator\"].replace(code_dict, inplace=True)\n",
    "\n",
    "# Change from long to wide format\n",
    "life_exp = life_exp.pivot(index=\"CountryName\", columns = \"Indicator\", values = \"Value\")\n",
    "\n",
    "# Remove NA values\n",
    "life_exp.dropna(inplace=True)\n",
    "\n",
    "print(life_exp.info())\n",
    "print(life_exp.describe())\n",
    "\n",
    "\n",
    "\n",
    "conn.close()"
   ]
  },
  {
   "cell_type": "markdown",
   "metadata": {},
   "source": [
    "Although we lost some data by removing missing values, we now have a dataset that we can explore further to see how they might predict Life Expectancy. We first may want to check which predictors are correlated with LifeExpetancy and which predictors are correlated with each other. For the latter, we want to check for possible covariance. For example, countries that are richer might emit more CO2, so GDP per capita might also be related to CO2 emissions. "
   ]
  },
  {
   "cell_type": "code",
   "execution_count": 7,
   "metadata": {
    "collapsed": false
   },
   "outputs": [
    {
     "data": {
      "text/plain": [
       "<matplotlib.axes._subplots.AxesSubplot at 0x191ec934748>"
      ]
     },
     "execution_count": 7,
     "metadata": {},
     "output_type": "execute_result"
    },
    {
     "data": {
      "image/png": "[encoded data removed]",
      "text/plain": [
       "<matplotlib.figure.Figure at 0x191ec950320>"
      ]
     },
     "metadata": {},
     "output_type": "display_data"
    }
   ],
   "source": [
    "%matplotlib inline\n",
    "\n",
    "sns.heatmap(life_exp.corr(), square=True, cmap='RdYlBu')"
   ]
  },
  {
   "cell_type": "markdown",
   "metadata": {},
   "source": [
    "Certainly, each variable is highly correlated with itself. However, it seems CO2 emissions, PM2.5 Exposure, and population density are only weakly correlated to each other variable. Of the variables shown here, Fertility, GDP per Capita, Inflation, Infant Mortality, and Education seem most strongly correlated with LifeExpectancy. However, each of these also seem to be highly interrelated as shown by the more intense blue/orange colors. \n",
    "\n",
    "## Machine learning with regression\n",
    "\n",
    "To test what might predict LifeExpectancy more rigorously, we apply machine learning using regression in scikit-learn. Here, Ordinary Least Squares linear regression is likely going to be inadequate since several terms in our predictors seem to be correlated to each other. To avoid this problem, we use elastic net regularized regression. Elastic net uses a hyperparameter l1 ratio that controls how much the square and the absolute value of the coefficient are weighted and a hyperparameter $\\alpha$ that is the penalty applied to coefficients.\n",
    "\n",
    "Before using regression, we need to first split the data into the independent and dependent variables. Then, we split the data into testing and training data.Based on our summary of the data above, most of the variables are on different scales, so we normalize the data by their means and standard deviations. We do 5-fold cross validation to minimize overfitting and do a search of which hyperparameter will best fit the data. \n",
    "\n",
    "We check the fit through the $R^2$ value on the test set and the best values of the hyperparameters."
   ]
  },
  {
   "cell_type": "code",
   "execution_count": 8,
   "metadata": {
    "collapsed": false
   },
   "outputs": [
    {
     "name": "stdout",
     "output_type": "stream",
     "text": [
      "Tuned ElasticNet Alpha 0.06736624362131248\n",
      "Tuned ElasticNet l1 ratio 1.0\n",
      "Tuned R squared 0.8012418175342166\n"
     ]
    }
   ],
   "source": [
    "from sklearn import model_selection\n",
    "from sklearn import linear_model\n",
    "\n",
    "# Split data into dependent and independent variables.\n",
    "y = life_exp[\"LifeExpectancy\"].values\n",
    "X = life_exp.drop(\"LifeExpectancy\", axis = 1).values\n",
    "\n",
    "# Pick l1 ratio hyperparameter space\n",
    "\n",
    "l1_space = np.linspace(0.01, 1, 30)\n",
    "\n",
    "# Setup cross validation and parameter search\n",
    "elastic = linear_model.ElasticNetCV(l1_ratio = l1_space,\n",
    "                                    normalize = True, cv = 5)\n",
    "\n",
    "# Create train and test sets\n",
    "X_train, X_test, y_train, y_test = model_selection.train_test_split(X, y, test_size = 0.3, random_state = 23)\n",
    "\n",
    "# Fit to the training set\n",
    "\n",
    "elastic.fit(X_train, y_train)\n",
    "\n",
    "# Check linear regression R^2\n",
    "\n",
    "r2 = elastic.score(X_test, y_test)\n",
    "\n",
    "print(\"Tuned ElasticNet Alpha {}\".format(elastic.alpha_))\n",
    "print(\"Tuned ElasticNet l1 ratio {}\".format(elastic.l1_ratio_))\n",
    "print(\"Tuned R squared {}\".format(r2))"
   ]
  },
  {
   "cell_type": "markdown",
   "metadata": {},
   "source": [
    "Because our ElasticNet l1 ratio is just 1, we have essentially performed Lasso regression. We perform the same procedure with just lasso regression to check our results."
   ]
  },
  {
   "cell_type": "code",
   "execution_count": 9,
   "metadata": {
    "collapsed": false
   },
   "outputs": [
    {
     "name": "stdout",
     "output_type": "stream",
     "text": [
      "Tuned Lasso Alpha 0.06736624362131248\n",
      "Tuned R squared 0.8012418175342166\n"
     ]
    }
   ],
   "source": [
    "# create lasso model with cross validation\n",
    "\n",
    "lasso = linear_model.LassoCV(normalize = True, cv = 5)\n",
    "\n",
    "# Fit to the training set\n",
    "\n",
    "lasso.fit(X_train, y_train)\n",
    "\n",
    "# Find regression R^2\n",
    "\n",
    "r2 = lasso.score(X_test, y_test)\n",
    "\n",
    "print(\"Tuned Lasso Alpha {}\".format(lasso.alpha_))\n",
    "print(\"Tuned R squared {}\".format(r2))"
   ]
  },
  {
   "cell_type": "markdown",
   "metadata": {},
   "source": [
    "We then plot the coefficients for the lasso regression for each column."
   ]
  },
  {
   "cell_type": "code",
   "execution_count": 10,
   "metadata": {
    "collapsed": false,
    "scrolled": false
   },
   "outputs": [
    {
     "data": {
      "text/plain": [
       "<matplotlib.text.Text at 0x191eced6828>"
      ]
     },
     "execution_count": 10,
     "metadata": {},
     "output_type": "execute_result"
    },
    {
     "data": {
      "image/png": "[encoded data removed]",
      "text/plain": [
       "<matplotlib.figure.Figure at 0x191eb434cf8>"
      ]
     },
     "metadata": {},
     "output_type": "display_data"
    }
   ],
   "source": [
    "%matplotlib inline\n",
    "\n",
    "lasso_coef = lasso.coef_\n",
    "\n",
    "predictors = life_exp.drop(\"LifeExpectancy\", axis = 1).columns\n",
    "\n",
    "plt.plot(range(len(predictors)), lasso_coef)\n",
    "plt.xticks(range(len(predictors)), predictors.values, rotation = 60)\n",
    "plt.ylabel(\"Coefficient\")\n",
    "\n"
   ]
  },
  {
   "cell_type": "markdown",
   "metadata": {},
   "source": [
    "We plot the life expectancy data against the most prominant predictor, infant mortality."
   ]
  },
  {
   "cell_type": "code",
   "execution_count": 11,
   "metadata": {
    "collapsed": false
   },
   "outputs": [
    {
     "data": {
      "text/plain": [
       "<matplotlib.text.Text at 0x191ed78cf60>"
      ]
     },
     "execution_count": 11,
     "metadata": {},
     "output_type": "execute_result"
    },
    {
     "data": {
      "image/png": "[encoded data removed]",
      "text/plain": [
       "<matplotlib.figure.Figure at 0x191eb434c50>"
      ]
     },
     "metadata": {},
     "output_type": "display_data"
    }
   ],
   "source": [
    "%matplotlib inline\n",
    "fig, ax = plt.subplots(1)\n",
    "\n",
    "life_exp.plot.scatter(x = 'InfantMort', y = 'LifeExpectancy', ax = ax)\n",
    "ax.set_xlabel(\"Infant Mortality\")\n",
    "ax.set_ylabel(\"Life Expectancy\")"
   ]
  },
  {
   "cell_type": "markdown",
   "metadata": {},
   "source": [
    "## Discussion\n",
    "\n",
    "From these results, it seems like enrolment in primary and secondary education and infant mortality are most related to life expectancy. Environmental or economic variables seem to have only low influence on life expectancy. For infant mortality, life expectancy at birth would be greatly reduced if a person does not survive beyond 1 year after birth. Countries that are more educated seem to have longer life expectancies, perhaps from better understanding the consequences of unhealthy behavior.\n",
    "\n",
    "We compare these results using Ridge regularization to see if Lasso may have been too aggressive in dropping possible predictors."
   ]
  },
  {
   "cell_type": "code",
   "execution_count": 12,
   "metadata": {
    "collapsed": false
   },
   "outputs": [
    {
     "name": "stdout",
     "output_type": "stream",
     "text": [
      "Tuned Ridge Alpha 284.32513959539386\n",
      "Tuned R squared 0.8012418175342166\n"
     ]
    },
    {
     "data": {
      "text/plain": [
       "<matplotlib.text.Text at 0x191eb4454a8>"
      ]
     },
     "execution_count": 12,
     "metadata": {},
     "output_type": "execute_result"
    },
    {
     "data": {
      "image/png": "[encoded data removed]",
      "text/plain": [
       "<matplotlib.figure.Figure at 0x191ed79cb70>"
      ]
     },
     "metadata": {},
     "output_type": "display_data"
    }
   ],
   "source": [
    "%matplotlib inline\n",
    "# Set up ridge regression\n",
    "\n",
    "alpha_space = np.logspace(-1, 3, 250)\n",
    "\n",
    "ridge = linear_model.RidgeCV(alphas = alpha_space, \n",
    "                             normalize = True, cv = 5)\n",
    "\n",
    "# Fit to the training set\n",
    "\n",
    "ridge.fit(X_train, y_train)\n",
    "\n",
    "# Find regression R^2\n",
    "\n",
    "r2 = lasso.score(X_test, y_test)\n",
    "\n",
    "print(\"Tuned Ridge Alpha {}\".format(ridge.alpha_))\n",
    "print(\"Tuned R squared {}\".format(r2))\n",
    "\n",
    "ridge_coef = ridge.coef_\n",
    "\n",
    "plt.plot(range(len(predictors)), ridge_coef)\n",
    "plt.xticks(range(len(predictors)), predictors.values, rotation = 60)\n",
    "plt.ylabel(\"Coefficient\")\n"
   ]
  },
  {
   "cell_type": "markdown",
   "metadata": {},
   "source": [
    "The $R^2$ and coefficients are not too different from the results of our lasso regression, suggesting that education and infant mortatility are indeed predictive of life expectancy. PM2.5 Exposure seems to increase life expectancy, though, which is probably incorrect given the known negative health effects of PM2.5 Exposure. Given that there are many more variables could affect mortality that we have not included, we should definitely add more possible predicters to our model. We should couple this with a clever imputation strategy so that we do not lose too many data points like we did just by dropping missing values."
   ]
  },
  {
   "cell_type": "code",
   "execution_count": null,
   "metadata": {
    "collapsed": false,
    "scrolled": false
   },
   "outputs": [],
   "source": []
  },
  {
   "cell_type": "code",
   "execution_count": null,
   "metadata": {
    "collapsed": true
   },
   "outputs": [],
   "source": []
  }
 ],
 "metadata": {
  "kernelspec": {
   "display_name": "Python 3",
   "language": "python",
   "name": "python3"
  },
  "language_info": {
   "codemirror_mode": {
    "name": "ipython",
    "version": 3
   },
   "file_extension": ".py",
   "mimetype": "text/x-python",
   "name": "python",
   "nbconvert_exporter": "python",
   "pygments_lexer": "ipython3",
   "version": "3.6.0"
  }
 },
 "nbformat": 4,
 "nbformat_minor": 2
}
